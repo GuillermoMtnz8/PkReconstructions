{
 "cells": [
  {
   "cell_type": "markdown",
   "id": "36692f7d-2790-4968-87ea-d45360882939",
   "metadata": {},
   "source": [
    "# Cálculo monopolo P(k) galaxias y likelihood con simulación genérica J-PAS-like #"
   ]
  },
  {
   "cell_type": "markdown",
   "id": "0b3edbe0-4b68-4650-9c5e-568e2ceee867",
   "metadata": {},
   "source": [
    "Este código tiene 2 outputs principales: el modelo del P monopolo de galaxias evaluado en bines de z y k 'PgmonopoleValores', y el likelihood al comparar este modelo con datos simulados construidos siguiendo el mismo modelo con la cosmología fiducial, 'lnlike'.\n",
    "\n",
    "El tiempo de cómputo de ambas variables es de 3 segundos en total."
   ]
  },
  {
   "cell_type": "code",
   "execution_count": 1683,
   "id": "71dc3ab4-93a1-4fe4-b213-2d856d95d899",
   "metadata": {},
   "outputs": [],
   "source": [
    "#Paquetes necesarios (seguramente sobra alguno)\n",
    "import numpy as np\n",
    "import math\n",
    "import pandas as pd\n",
    "import scipy as sp\n",
    "import sympy\n",
    "import scipy.integrate as integrate\n",
    "import scipy.special as special\n",
    "from mpmath import *\n",
    "import numpy.testing as testing\n",
    "import camb"
   ]
  },
  {
   "cell_type": "markdown",
   "id": "8a85b101-a7a8-40b8-8a5e-31cc0c46efc4",
   "metadata": {},
   "source": [
    "# Parámetros cosmlógicos:\n",
    "    - Constantes.\n",
    "    - Parámetros fijos que no se varían en Cobaya.\n",
    "    - Del fiducial (usados para los datos).\n",
    "    - Fuera del fiducial, simulando los valores que podría estar sampleando Cobaya."
   ]
  },
  {
   "cell_type": "code",
   "execution_count": 1684,
   "id": "f4f95b67-df46-4d43-b204-06001454b24b",
   "metadata": {},
   "outputs": [],
   "source": [
    "#Valores de los parámetros cosmológicos en el fiducial.\n",
    "\n",
    "#Constantes cosmológicas:\n",
    "c = 2.99792458E5;   HJPAS = 1/(c/100);\n",
    "\n",
    "#Parámetros cosmológicos que no se varían:\n",
    "OmegakJPAS = 0; AsJPAS = 2.09052E-9; nsJPAS = 0.9626; \n",
    "\n",
    "#Parámetros cosmológicos directos:\n",
    "hJPASFid = 0.674; c = 2.99792458E5; OmegabJPASh2Fid = 0.02212; OmegaCDMJPASh2Fid = 0.1206; \n",
    "OmegamJPASFid = 0.314170;\n",
    "\n",
    "#Parámetros cosmológicos indirectos:\n",
    "OmegabJPASFid = OmegabJPASh2Fid/hJPASFid**2; OmegaCDMJPASFid = OmegaCDMJPASh2Fid/hJPASFid**2;\n",
    "OmegaLJPASFid = 1 - OmegamJPASFid;"
   ]
  },
  {
   "cell_type": "code",
   "execution_count": 1685,
   "id": "7fb2aad6-8055-43f2-a3d5-95f521731aee",
   "metadata": {},
   "outputs": [],
   "source": [
    "#Parámetros cosmológicos fuera del fiducial:\n",
    "hJPAS = hJPASFid + hJPASFid/100;\n",
    "OmegabJPASh2 = OmegabJPASh2Fid + OmegabJPASh2Fid/100;\n",
    "OmegaCDMJPASh2 = OmegaCDMJPASh2Fid + OmegaCDMJPASh2Fid/100; \n",
    "OmegamJPAS = OmegamJPASFid + OmegamJPASFid/100;\n",
    "\n",
    "#Parámetros cosmológicos indirectos fuera del fiducial:\n",
    "OmegabJPAS = OmegabJPASh2/hJPAS**2; OmegaCDMJPAS = OmegaCDMJPASh2/hJPAS**2;\n",
    "OmegaLJPAS = 1 - OmegamJPAS;"
   ]
  },
  {
   "cell_type": "markdown",
   "id": "be07323a-87d4-43f9-a00e-daba5ba7c133",
   "metadata": {},
   "source": [
    "# Bineado de k y de z"
   ]
  },
  {
   "cell_type": "code",
   "execution_count": 1686,
   "id": "ede3c9cf-8a36-4b42-8fc6-507399d2c9c0",
   "metadata": {},
   "outputs": [],
   "source": [
    "#Límites y pasos de los arrays. Escalas en unidades de h.\n",
    "kminKArrayCompleto = 0.001;   kmaxKArrayCompleto = 2.4900;  pasoKArrayCompleto = 0.025;\n",
    "zmin = 1.7;   zmax = 2.9;   pasoz = 0.2;"
   ]
  },
  {
   "cell_type": "code",
   "execution_count": 1687,
   "id": "582d108a-9ff8-45bf-b19c-529df0d4b19f",
   "metadata": {},
   "outputs": [],
   "source": [
    "#Bines de k, completos y reducidos\n",
    "KArrayCompleto = np.exp( np.arange(math.log(kminKArrayCompleto), math.log(kmaxKArrayCompleto), pasoKArrayCompleto) )\n",
    "KArray = KArrayCompleto[range(121,246)]"
   ]
  },
  {
   "cell_type": "code",
   "execution_count": 1688,
   "id": "6a22d1aa-bf1c-43b6-82db-3faa868d34b0",
   "metadata": {},
   "outputs": [],
   "source": [
    "#Bines de z:\n",
    "za = np.arange(zmin, zmax+pasoz/2, pasoz)"
   ]
  },
  {
   "cell_type": "markdown",
   "id": "03727727-64ac-4d99-9aff-a9f7dd7aba0f",
   "metadata": {},
   "source": [
    " # Llamadas a CAMB:\n",
    "     - Para fiducial\n",
    "     - Para fuera de fiducial\n",
    "     - Para z=0 (fuera del fiducial)\n",
    "     - Para límites de bines de z por arriba y por abajo, zupper y zlower (fuera del fiducial)"
   ]
  },
  {
   "cell_type": "code",
   "execution_count": 1689,
   "id": "6ca3c140-20f5-49c9-9f6d-30bf6f4d80d1",
   "metadata": {},
   "outputs": [
    {
     "name": "stdout",
     "output_type": "stream",
     "text": [
      "Note: redshifts have been re-sorted (earliest first)\n"
     ]
    }
   ],
   "source": [
    "#Llamamos a CAMB para la cosmología fiducial\n",
    "\n",
    "#Aquí nombramos los parámetros a meter de input a CAMB\n",
    "parsFid = camb.CAMBparams()\n",
    "\n",
    "#pars está divido en parámetros cosmológicos y parámetros de la power law, entre otras cosas.\n",
    "#Llamamos ambos y damos los valores de JPAS\n",
    "parsFid.set_cosmology(H0=100*hJPASFid, ombh2=OmegabJPASh2Fid, omch2=OmegaCDMJPASh2Fid, mnu=0, omk=OmegakJPAS, tau=0.06);\n",
    "parsFid.InitPower.set_params(ns=nsJPAS, As=AsJPAS);\n",
    "parsFid.set_matter_power(redshifts=za, kmax=KArrayCompleto[-1]);\n",
    "#Aquí ya trabajamos con los resultados de CAMB 'results' y 'background':\n",
    "resultsFid = camb.get_results(parsFid)\n",
    "backgroundFid = camb.get_background(parsFid, no_thermo=False)"
   ]
  },
  {
   "cell_type": "code",
   "execution_count": 1690,
   "id": "4a5f7f44-5506-4dc8-afe8-1085d4b8bdd2",
   "metadata": {},
   "outputs": [
    {
     "name": "stdout",
     "output_type": "stream",
     "text": [
      "Note: redshifts have been re-sorted (earliest first)\n"
     ]
    }
   ],
   "source": [
    "#Llamamos a otro CAMB leyendo datos fuera del fiducial\n",
    "pars = camb.CAMBparams()\n",
    "pars.set_cosmology(H0=100*hJPAS, ombh2=OmegabJPASh2, omch2=OmegaCDMJPASh2, mnu=0, omk=OmegakJPAS, tau=0.06);\n",
    "pars.InitPower.set_params(ns=nsJPAS, As=AsJPAS);\n",
    "pars.set_matter_power(redshifts=za, kmax=KArrayCompleto[-1]);\n",
    "results = camb.get_results(pars)\n",
    "background = camb.get_background(pars, no_thermo=False)"
   ]
  },
  {
   "cell_type": "code",
   "execution_count": 1691,
   "id": "a18a106e-8a6b-420f-8dc4-09dea706acc8",
   "metadata": {},
   "outputs": [],
   "source": [
    "#Importamos otro CAMB leyendo datos a z=0\n",
    "parsz0 = camb.CAMBparams()\n",
    "parsz0.set_cosmology(H0=100*hJPAS, ombh2=OmegabJPASh2, omch2=OmegaCDMJPASh2, mnu=0, omk=OmegakJPAS, tau=0.06);\n",
    "parsz0.InitPower.set_params(ns=nsJPAS, As=AsJPAS);\n",
    "parsz0.set_matter_power(redshifts=[0], kmax=KArrayCompleto[-1]);\n",
    "resultsz0 = camb.get_results(parsz0)\n",
    "backgroundz0 = camb.get_background(parsz0, no_thermo=False)"
   ]
  },
  {
   "cell_type": "code",
   "execution_count": 1692,
   "id": "b6aa2df0-c8cf-4657-834f-d96f03c497d2",
   "metadata": {},
   "outputs": [
    {
     "name": "stdout",
     "output_type": "stream",
     "text": [
      "Note: redshifts have been re-sorted (earliest first)\n"
     ]
    }
   ],
   "source": [
    "#Otro CAMB leyendo zaupper\n",
    "parszupper = camb.CAMBparams();\n",
    "parszupper.set_cosmology(H0=100*hJPAS, ombh2=OmegabJPASh2, omch2=OmegaCDMJPASh2, mnu=0, omk=OmegakJPAS, tau=0.06);\n",
    "parszupper.InitPower.set_params(ns=nsJPAS, As=AsJPAS);\n",
    "parszupper.set_matter_power(redshifts=za+0.1, kmax=KArrayCompleto[-1]);\n",
    "resultszupper = camb.get_results(parszupper);\n",
    "backgroundzupper = camb.get_background(parszupper, no_thermo=False);"
   ]
  },
  {
   "cell_type": "code",
   "execution_count": 1693,
   "id": "defdff17-ceaa-4226-81b3-cc12daf64dcb",
   "metadata": {},
   "outputs": [
    {
     "name": "stdout",
     "output_type": "stream",
     "text": [
      "Note: redshifts have been re-sorted (earliest first)\n"
     ]
    }
   ],
   "source": [
    "#Otro CAMB leyendo zalower\n",
    "parszlower = camb.CAMBparams()\n",
    "parszlower.set_cosmology(H0=100*hJPAS, ombh2=OmegabJPASh2, omch2=OmegaCDMJPASh2, mnu=0, omk=OmegakJPAS, tau=0.06);\n",
    "parszlower.InitPower.set_params(ns=nsJPAS, As=AsJPAS)\n",
    "parszlower.set_matter_power(redshifts=za-0.1, kmax=KArrayCompleto[-1]);\n",
    "resultszlower = camb.get_results(parszlower)\n",
    "backgroundzlower = camb.get_background(parszlower, no_thermo=False)"
   ]
  },
  {
   "cell_type": "markdown",
   "id": "606ae3d8-3621-4ce1-a0ca-ed63d170eed1",
   "metadata": {},
   "source": [
    "# P(k) materia lineal desde CAMB para z=0 #"
   ]
  },
  {
   "cell_type": "code",
   "execution_count": 1694,
   "id": "8fa7fab7-3a98-4e34-bb42-6be0691a0bab",
   "metadata": {},
   "outputs": [],
   "source": [
    "#P(k) materia a z=0:\n",
    "kmatCAMBz0, zaCAMBz0, PmatCAMBz0 = resultsz0.get_matter_power_spectrum(minkh=KArrayCompleto[0], maxkh=KArrayCompleto[-1], npoints = len(KArrayCompleto))"
   ]
  },
  {
   "cell_type": "code",
   "execution_count": 1695,
   "id": "ca8f229e-5ff9-4be2-b5b2-2fd779c9a69f",
   "metadata": {},
   "outputs": [],
   "source": [
    "#Se interpola en k el P(k) a z = 0:\n",
    "def PmatInterCAMB(k):\n",
    "  return np.interp(k, kmatCAMBz0, PmatCAMBz0[0])"
   ]
  },
  {
   "cell_type": "markdown",
   "id": "2994201d-bcfb-40a8-88bc-3251557eb445",
   "metadata": {},
   "source": [
    "# Modelo de Kaiser #"
   ]
  },
  {
   "cell_type": "markdown",
   "id": "b133a9e1-1c43-4167-a9d4-f3c56732c1ba",
   "metadata": {},
   "source": [
    "Funciones E(z), f(z) y D(z):"
   ]
  },
  {
   "cell_type": "code",
   "execution_count": 1696,
   "id": "1aedf65a-183b-4e32-b0b2-0c8aec0773d6",
   "metadata": {},
   "outputs": [],
   "source": [
    "#Leemos el valor de CAMB para Omegam, quedándonos solo con bariones y cdm:\n",
    "OmegamFid = np.array(resultsFid.get_Omega('baryon'))+np.array(resultsFid.get_Omega('cdm'))\n",
    "Omegam = np.array(results.get_Omega('baryon'))+np.array(results.get_Omega('cdm'))"
   ]
  },
  {
   "cell_type": "code",
   "execution_count": 1697,
   "id": "deadfc96-74ae-4450-94ff-395fd9dac5f4",
   "metadata": {},
   "outputs": [],
   "source": [
    "Ez = np.sqrt( Omegam*(1+za)**3+(1-Omegam) );    EzFid = np.sqrt( OmegamFid*(1+za)**3+(1-OmegamFid) )"
   ]
  },
  {
   "cell_type": "code",
   "execution_count": 1698,
   "id": "1b3cbe3f-ab25-4d98-b898-448424114649",
   "metadata": {},
   "outputs": [],
   "source": [
    "H = HJPAS * Ez"
   ]
  },
  {
   "cell_type": "code",
   "execution_count": 1699,
   "id": "f0f7a8bd-d31e-49d3-b053-f4440332e17a",
   "metadata": {},
   "outputs": [],
   "source": [
    "#Este es el sigma8 para los bines de z\n",
    "sigma8Reves = np.array(results.get_sigma8())\n",
    "sigma8 = sigma8Reves[::-1]\n",
    "\n",
    "#sigma8 para z=0:\n",
    "sigma8z0 = resultsz0.get_sigma8()[0]"
   ]
  },
  {
   "cell_type": "code",
   "execution_count": 1700,
   "id": "ba58c47b-ed76-4b10-bf31-5123609b9bfa",
   "metadata": {},
   "outputs": [],
   "source": [
    "#Llamando a fsigma8 de CAMB y dividiendo entre sigma8 obtenemos f(z).\n",
    "#La ordenación se hace de z más alto a z más bajo y la cambiamos\n",
    "fReves = np.array(results.get_fsigma8())/sigma8Reves\n",
    "f = fReves[::-1]"
   ]
  },
  {
   "cell_type": "code",
   "execution_count": 1701,
   "id": "3818ce3d-eee9-46ae-b205-0d25090cf7d3",
   "metadata": {},
   "outputs": [],
   "source": [
    "#Esta otra forma de calcular f parece que tiene más sustento teórico:\n",
    "#Gravitational growth index\n",
    "gamma = 0.545\n",
    "f = (Omegam*(1+za)**3*1/(Ez**2))**gamma"
   ]
  },
  {
   "cell_type": "code",
   "execution_count": 1702,
   "id": "218dfaff-75a5-4a7d-a9c5-cb39a5c25c1b",
   "metadata": {},
   "outputs": [],
   "source": [
    "#El growth factor D(z) no está directamente en CAMB, pero su forma es igual que la de sigmaR.\n",
    "#Por tanto, usamos el sigmaR normalizado\n",
    "#El valor de D(z) no coincide exactamente con el de los datos, debe venir de la discrepancia en f\n",
    "DeReves = results.get_sigmaR(8)/resultsz0.get_sigmaR(8)[0]\n",
    "De = DeReves[::-1]"
   ]
  },
  {
   "cell_type": "markdown",
   "id": "3a95e0c8-9653-4e66-aacf-04c4175ad547",
   "metadata": {},
   "source": [
    "Función A(z)"
   ]
  },
  {
   "cell_type": "code",
   "execution_count": 1703,
   "id": "182d918b-ce0a-4b7d-8566-7a95932e1e53",
   "metadata": {},
   "outputs": [],
   "source": [
    "#Bias\n",
    "def bJPAS(z):\n",
    "  return 0.53+0.289*(1+z)**2"
   ]
  },
  {
   "cell_type": "code",
   "execution_count": 1704,
   "id": "a03d414b-c331-4582-89b4-264ed26e8030",
   "metadata": {},
   "outputs": [],
   "source": [
    "#Notar aquí que el sigma8 se pone por seguir la notación de Maroto, ya que luego cancela\n",
    "A = De*bJPAS(za)*sigma8z0"
   ]
  },
  {
   "cell_type": "markdown",
   "id": "ed24ee8b-7fcc-4afd-b750-079bd22d04f1",
   "metadata": {},
   "source": [
    "Función R(z)"
   ]
  },
  {
   "cell_type": "code",
   "execution_count": 1705,
   "id": "4ef3ab88-0e2e-4bf3-9c41-407e976da83f",
   "metadata": {},
   "outputs": [],
   "source": [
    "R = De*f*sigma8z0"
   ]
  },
  {
   "cell_type": "markdown",
   "id": "8ad0e943-6b4d-4eaf-9921-81e2b84d9841",
   "metadata": {},
   "source": [
    "Modelo Kaiser"
   ]
  },
  {
   "cell_type": "code",
   "execution_count": 1706,
   "id": "2c2f82f0-955a-4624-a666-3ce7852248f1",
   "metadata": {},
   "outputs": [],
   "source": [
    "def PKaiser(mu,k):\n",
    "  return (A[0]+R[0]*mu**2)**2*PmatInterCAMB(k)/sigma8z0**2"
   ]
  },
  {
   "cell_type": "markdown",
   "id": "2285f9ee-8829-40d5-befc-04497a3ca8df",
   "metadata": {},
   "source": [
    "# Fotometría #"
   ]
  },
  {
   "cell_type": "code",
   "execution_count": 1707,
   "id": "0fb4bf39-3511-46a6-b0f9-fa9194a262d0",
   "metadata": {},
   "outputs": [],
   "source": [
    "#Valor del error fotométrico (3.6%)\n",
    "DeltazJPAS = 0.00364236313918151"
   ]
  },
  {
   "cell_type": "markdown",
   "id": "02582604-006d-491c-beaa-e9fd4a1c17fc",
   "metadata": {},
   "source": [
    "Función sigmar(z)"
   ]
  },
  {
   "cell_type": "code",
   "execution_count": 1708,
   "id": "ebba8399-0c7e-4acb-afa7-eabfeaa74e0d",
   "metadata": {},
   "outputs": [],
   "source": [
    "sigmar = DeltazJPAS*(1+za)/H"
   ]
  },
  {
   "cell_type": "code",
   "execution_count": 1709,
   "id": "5a206c1f-2dc6-498c-9831-fa3b16d48f27",
   "metadata": {},
   "outputs": [],
   "source": [
    "def PKaiserFotometria(mu,k):\n",
    "  return PKaiser(mu,k)*np.exp(-(k*mu*sigmar[0])**2)"
   ]
  },
  {
   "cell_type": "markdown",
   "id": "e79ea90b-e89c-463a-bcf8-bb1c082abb45",
   "metadata": {},
   "source": [
    "# Fingers of God #"
   ]
  },
  {
   "cell_type": "markdown",
   "id": "b24fa2fe-380c-4d57-9ca7-156cc6977292",
   "metadata": {},
   "source": [
    "Parámetro dispersión velocidades. Se obtiene una vez para el fiducial"
   ]
  },
  {
   "cell_type": "code",
   "execution_count": 1710,
   "id": "d0fb20bc-aae7-4d72-b4ef-e4a639e97458",
   "metadata": {
    "scrolled": true
   },
   "outputs": [
    {
     "name": "stderr",
     "output_type": "stream",
     "text": [
      "/var/folders/1h/0trg724n2fg2pn5j02gypgzc0000gn/T/ipykernel_45540/4154778153.py:2: IntegrationWarning: The maximum number of subdivisions (50) has been achieved.\n",
      "  If increasing the limit yields no improvement it is advised to analyze \n",
      "  the integrand in order to determine the difficulties.  If the position of a \n",
      "  local difficulty can be determined (singularity, discontinuity) one will \n",
      "  probably gain from splitting up the interval and calling the integrator \n",
      "  on the subranges.  Perhaps a special-purpose integrator should be used.\n",
      "  sigmap = (1/(6*np.pi**2)*(De/1)**2*integrate.quad(lambda k: PmatInterCAMB(k), KArrayCompleto[0], KArrayCompleto[len(KArrayCompleto)-1])[0])**0.5\n"
     ]
    }
   ],
   "source": [
    "#Hay discrepancias del 1% debido al D(z)\n",
    "sigmap = (1/(6*np.pi**2)*(De/1)**2*integrate.quad(lambda k: PmatInterCAMB(k), KArrayCompleto[0], KArrayCompleto[len(KArrayCompleto)-1])[0])**0.5"
   ]
  },
  {
   "cell_type": "markdown",
   "id": "a58c9f0e-5d45-4099-a9f2-ae4c860e935c",
   "metadata": {},
   "source": [
    "Cómputo factor Fingers of God"
   ]
  },
  {
   "cell_type": "code",
   "execution_count": 1711,
   "id": "2d4a03a8-5ad0-4901-82a8-159a1bd1ba6c",
   "metadata": {},
   "outputs": [],
   "source": [
    "def FFog(mu,k):\n",
    "    return 1/(1+(f[0]*k*mu*sigmap[0])**2)"
   ]
  },
  {
   "cell_type": "markdown",
   "id": "0aed4ce6-a6b9-4ef9-8ed2-d3e4f312dff5",
   "metadata": {},
   "source": [
    "P(k) de Kaiser con FFoG"
   ]
  },
  {
   "cell_type": "code",
   "execution_count": 1712,
   "id": "061a36a9-b31b-4994-96a5-363f9cac9cc5",
   "metadata": {},
   "outputs": [],
   "source": [
    "def PKaiserFotometriaFoG(mu,k):\n",
    "    return FFog(mu,k)*PKaiserFotometria(mu,k) "
   ]
  },
  {
   "cell_type": "markdown",
   "id": "26dded72-671a-4b35-bcdf-d3a5bc0ac3bd",
   "metadata": {},
   "source": [
    "# Efecto AP #"
   ]
  },
  {
   "cell_type": "code",
   "execution_count": 1713,
   "id": "a048e0b4-d679-4cb5-ab6e-f955c99678d5",
   "metadata": {},
   "outputs": [],
   "source": [
    "#Distancia comóvil desde CAMB\n",
    "Xi = results.comoving_radial_distance(za)*hJPAS;   XiFid = resultsFid.comoving_radial_distance(za)*hJPASFid"
   ]
  },
  {
   "cell_type": "code",
   "execution_count": 1714,
   "id": "cc502cf3-a5e0-48d4-bc83-942b7b029d30",
   "metadata": {},
   "outputs": [],
   "source": [
    "#Distancia angular. Multiplicamos por h para tener unidades h/Mpc:\n",
    "DA = Xi/(1+za);   DAFid = XiFid/(1+za)"
   ]
  },
  {
   "cell_type": "code",
   "execution_count": 1715,
   "id": "b2afd688-e49e-4bf7-a52b-d65289a3a7bd",
   "metadata": {},
   "outputs": [],
   "source": [
    "#Factor de distorsión del AP:\n",
    "FactorAP = DAFid**2*Ez/( DA**2*EzFid )"
   ]
  },
  {
   "cell_type": "code",
   "execution_count": 1716,
   "id": "ed04df18-d4f5-4a82-be3a-aaf2345e0f42",
   "metadata": {},
   "outputs": [],
   "source": [
    "#Factor Q distorsión:\n",
    "def Q(mu):\n",
    "    return ((Ez[0]**2*Xi[0]**2*mu**2-EzFid[0]**2*XiFid[0]**2*(mu**2-1))**0.5/(EzFid[0]*Xi[0]))"
   ]
  },
  {
   "cell_type": "markdown",
   "id": "52c25625-6c87-47a3-b378-eb9fbf0821f8",
   "metadata": {},
   "source": [
    "Mus y ks distorsionados"
   ]
  },
  {
   "cell_type": "code",
   "execution_count": 1717,
   "id": "96492410-a8a1-4dad-85e5-a3b58c01bf00",
   "metadata": {},
   "outputs": [],
   "source": [
    "def muObs(mu):\n",
    "    return mu*Ez[0]/(EzFid[0]*Q(mu))"
   ]
  },
  {
   "cell_type": "code",
   "execution_count": 1718,
   "id": "fa72b15c-43b3-4e7c-bd50-3feed5584bfd",
   "metadata": {},
   "outputs": [],
   "source": [
    "def kObs(mu,k):\n",
    "    return Q(mu)*k"
   ]
  },
  {
   "cell_type": "markdown",
   "id": "3f016df0-fdf8-40a5-be35-aebb0d9872a0",
   "metadata": {},
   "source": [
    "P de galaxias: Kaiser con fotometría, FoG y AP"
   ]
  },
  {
   "cell_type": "code",
   "execution_count": 1719,
   "id": "6a1080c4-bc7a-4020-8cfc-3138d1454a76",
   "metadata": {},
   "outputs": [],
   "source": [
    "#Vuelvo a escribir todos los factores ya que el efecto AP no se aplica por igual en todos\n",
    "def Pg(mu,k):\n",
    "    return FactorAP[0]*FFog(muObs(mu),kObs(mu,k))*(A[0]+R[0]*muObs(mu)**2)**2 * PmatInterCAMB(kObs(mu,k))/sigma8z0**2 *np.exp(-(k*mu*sigmar[0])**2)"
   ]
  },
  {
   "cell_type": "markdown",
   "id": "1323a3e4-dec5-46ff-8b4f-f2be937e7362",
   "metadata": {},
   "source": [
    "# P galaxy monopole #"
   ]
  },
  {
   "cell_type": "code",
   "execution_count": 1720,
   "id": "7af61e8f-3432-4d56-8eec-f3b062890672",
   "metadata": {},
   "outputs": [],
   "source": [
    "#Aquí se realiza la integral del monopolo, con mu desde -1 a 1, y con el pre-factor 1/2.\n",
    "#Se usa la regla del trapecio con 2000 pasos\n",
    "def Pgmonopole(k):\n",
    "    mu = np.arange(-1, 1, 1/1000)\n",
    "    return 1/2 * integrate.trapz(Pg(mu, k), mu)"
   ]
  },
  {
   "cell_type": "code",
   "execution_count": 1721,
   "id": "fe8e6f02-774c-45d0-b46d-26077f9b4ebb",
   "metadata": {},
   "outputs": [],
   "source": [
    "#Evaluamos el Pgmonopole en el array de k\n",
    "PgmonopoleValores = np.zeros(len(KArray))\n",
    "for i in range(0, len(KArray)):\n",
    "    PgmonopoleValores[i] = Pgmonopole(KArray[i])"
   ]
  },
  {
   "cell_type": "markdown",
   "id": "aaa03b6c-8557-438c-b8a3-66c86edafb2c",
   "metadata": {},
   "source": [
    "# Covarianza #"
   ]
  },
  {
   "cell_type": "markdown",
   "id": "c2c6cc90-f0f2-460f-b702-bae4c68bf988",
   "metadata": {},
   "source": [
    "Importación y lectura de las densidades"
   ]
  },
  {
   "cell_type": "code",
   "execution_count": 1722,
   "id": "f85afc69-77c2-4766-941b-15af22384b5d",
   "metadata": {},
   "outputs": [],
   "source": [
    "ImportacionDensityHighZ = [i.strip().split() for i in open(\"/Users/guillermo/Desktop/DensityHighZ.dat\").readlines()]"
   ]
  },
  {
   "cell_type": "code",
   "execution_count": 1723,
   "id": "91a3c4cf-35ce-46ff-81ed-3f5fd4043b05",
   "metadata": {},
   "outputs": [],
   "source": [
    "DensityHighZ = np.zeros(len(ImportacionDensityHighZ));"
   ]
  },
  {
   "cell_type": "code",
   "execution_count": 1724,
   "id": "1ec41597-e55b-48aa-88ab-fea6963cb675",
   "metadata": {},
   "outputs": [],
   "source": [
    "for i in range(0, len(ImportacionDensityHighZ)):\n",
    "  DensityHighZ[i] = ImportacionDensityHighZ[i][1]"
   ]
  },
  {
   "cell_type": "markdown",
   "id": "ce7a6aad-fd36-4312-a597-7bafe3ca8da2",
   "metadata": {},
   "source": [
    "Definición del volumen (requiere distancia angular con unidades y binear en zupper y zlower)"
   ]
  },
  {
   "cell_type": "code",
   "execution_count": 1725,
   "id": "31a831c4-8727-47d5-be44-1ee0737156d0",
   "metadata": {},
   "outputs": [],
   "source": [
    "#Área del cielo\n",
    "fsky = 0.2575;"
   ]
  },
  {
   "cell_type": "code",
   "execution_count": 1726,
   "id": "eea683f1-37ac-4f21-acc3-0bc979ec1386",
   "metadata": {},
   "outputs": [],
   "source": [
    "#Bines de z por arriba y por abajo:\n",
    "zaupper = za+(za[[1]]-za[[0]])/2;    zalower = za-(za[[1]]-za[[0]])/2;"
   ]
  },
  {
   "cell_type": "code",
   "execution_count": 1727,
   "id": "d234cea8-7460-46e6-b12e-ba624f2f7650",
   "metadata": {},
   "outputs": [],
   "source": [
    "#Distancia angular para los bines z upper y lower:\n",
    "XiZaLower = resultszlower.comoving_radial_distance(zalower)*hJPAS\n",
    "XiZaUpper = resultszupper.comoving_radial_distance(zaupper)*hJPAS"
   ]
  },
  {
   "cell_type": "code",
   "execution_count": 1728,
   "id": "c67302d7-d9af-4924-981c-c604138afa44",
   "metadata": {},
   "outputs": [],
   "source": [
    "#Definición de volumen:\n",
    "Vol = 4*np.pi*fsky/3*(XiZaUpper**3-XiZaLower**3)"
   ]
  },
  {
   "cell_type": "markdown",
   "id": "d047bdf0-a91a-464a-9a1b-ccf0c0f166e8",
   "metadata": {},
   "source": [
    "Definición del número de modos (requiere arrays en kupper y klower):"
   ]
  },
  {
   "cell_type": "code",
   "execution_count": 1729,
   "id": "8b699311-1c87-426e-8cbb-d7895667eb37",
   "metadata": {},
   "outputs": [],
   "source": [
    "#Bines de k por arriba y por abajo\n",
    "KArrayUpper = np.zeros(len(KArray)); KArrayLower = np.zeros(len(KArray));\n",
    "\n",
    "for i in range(0, len(KArray)-1):\n",
    "  KArrayUpper[i] = KArray[i] + (KArray[i+1]-KArray[i])/2;   KArrayLower[i] = KArray[i] - (KArray[i+1]-KArray[i])/2;\n",
    "\n",
    "KArrayUpper[-1] = KArrayUpper[-2];  KArrayLower[-1] = KArrayLower[-2];"
   ]
  },
  {
   "cell_type": "code",
   "execution_count": 1730,
   "id": "20545494-48be-4da9-afed-e30b59a8e142",
   "metadata": {},
   "outputs": [],
   "source": [
    "#Número de modos. Depende de las variables k1 y k2, que debe corresponderse a kupper y klower\n",
    "def Nk(k1,k2):\n",
    "    return Vol[0] * (4*np.pi/3*(k1**3-k2**3))/((2*np.pi)**3)"
   ]
  },
  {
   "cell_type": "code",
   "execution_count": 1731,
   "id": "f3421f6d-c604-4841-a1df-456c299a8b3e",
   "metadata": {},
   "outputs": [],
   "source": [
    "#Evaluamos Nk para cada valor de nuestro array de k\n",
    "NkEvaluado = np.zeros(len(KArray))\n",
    "for i in range(0, len(KArray)):\n",
    "    NkEvaluado[i] = Nk(KArrayUpper[i],KArrayLower[i])"
   ]
  },
  {
   "cell_type": "markdown",
   "id": "a673189c-9252-4a94-831e-9e5ac8ba0387",
   "metadata": {},
   "source": [
    "Definición de la covarianza"
   ]
  },
  {
   "cell_type": "code",
   "execution_count": 1732,
   "id": "f12caec6-001c-4e6e-a6af-c6eab5b7be85",
   "metadata": {},
   "outputs": [],
   "source": [
    "#Va a depender de k1 y k2. No me gusta mucho:\n",
    "def Cov(k,k1,k2):\n",
    "    return 2 * (Pgmonopole(k) + 1/DensityHighZ[0])**2 / Nk(k1,k2)"
   ]
  },
  {
   "cell_type": "code",
   "execution_count": 1733,
   "id": "4ba039f5-ab33-4e02-98b7-1fadfd214701",
   "metadata": {},
   "outputs": [],
   "source": [
    "#Evaluamos Cov para nuestros k\n",
    "CovEvaluado = 2 *(PgmonopoleValores + 1/DensityHighZ[0])**2 / NkEvaluado"
   ]
  },
  {
   "cell_type": "markdown",
   "id": "4303b5df-b3cc-4b80-ae08-e1b3c9e4a568",
   "metadata": {},
   "source": [
    "# Lectura de datos #"
   ]
  },
  {
   "cell_type": "markdown",
   "id": "84f5b285-c5a3-4b57-b513-1f324713b4ed",
   "metadata": {},
   "source": [
    "Importación de los de datos del P(k) monopolo que hemos generado. Para todos los bines de z"
   ]
  },
  {
   "cell_type": "code",
   "execution_count": 1734,
   "id": "c4658e8c-972d-4306-be11-6b42d5687d22",
   "metadata": {},
   "outputs": [],
   "source": [
    "ImportacionDatosHighZ = [i.strip().split() for i in open(\"/Users/guillermo/Desktop/FicticioHighZArrayEnK.dat\").readlines()]"
   ]
  },
  {
   "cell_type": "code",
   "execution_count": 1735,
   "id": "722d18d7-dc79-4120-9d50-8d064254f5c3",
   "metadata": {},
   "outputs": [],
   "source": [
    "DataPkzTotal = np.zeros(len(za));"
   ]
  },
  {
   "cell_type": "code",
   "execution_count": 1736,
   "id": "769c0ad6-133e-4bf9-b6e8-7b53446d6b91",
   "metadata": {},
   "outputs": [],
   "source": [
    "Pk1 = np.zeros(len(ImportacionDatosHighZ)); Pk2 = np.zeros(len(ImportacionDatosHighZ));\n",
    "Pk3 = np.zeros(len(ImportacionDatosHighZ)); Pk4 = np.zeros(len(ImportacionDatosHighZ));\n",
    "Pk5 = np.zeros(len(ImportacionDatosHighZ)); Pk6 = np.zeros(len(ImportacionDatosHighZ));\n",
    "Pk7 = np.zeros(len(ImportacionDatosHighZ));"
   ]
  },
  {
   "cell_type": "code",
   "execution_count": 1737,
   "id": "2f5ff312-1289-4c23-ba19-b8f5e483ed05",
   "metadata": {},
   "outputs": [],
   "source": [
    "#Asociamos a cada Pk la columna correspondiente en el archivo de los datos. z1 es la columna 3, es decir [2]:\n",
    "for i in range(0, len(ImportacionDatosHighZ)):\n",
    "  Pk1[i] = ImportacionDatosHighZ[i][2]; Pk2[i] = ImportacionDatosHighZ[i][3]; Pk3[i] = ImportacionDatosHighZ[i][4];\n",
    "  Pk4[i] = ImportacionDatosHighZ[i][5]; Pk5[i] = ImportacionDatosHighZ[i][6]; Pk6[i] = ImportacionDatosHighZ[i][7];\n",
    "  Pk7[i] = ImportacionDatosHighZ[i][8]"
   ]
  },
  {
   "cell_type": "code",
   "execution_count": 1738,
   "id": "ac24b403-e9cd-4d30-942f-c48179b59c87",
   "metadata": {},
   "outputs": [],
   "source": [
    "#Esto vendrá bien cuando queramos usar todos los bines de z\n",
    "DataPkzTotal = np.array([Pk1,Pk2,Pk3,Pk4,Pk5,Pk6,Pk7])"
   ]
  },
  {
   "cell_type": "markdown",
   "id": "272bac72-fc02-454f-a470-74ecb6927839",
   "metadata": {},
   "source": [
    "# Likelihood #"
   ]
  },
  {
   "cell_type": "markdown",
   "id": "e6ea7ea8-c375-48ec-bbe8-ad4ba2996d00",
   "metadata": {},
   "source": [
    "Bineamos el P(k) para cuando entre al likelihood:"
   ]
  },
  {
   "cell_type": "code",
   "execution_count": 1739,
   "id": "1bb4928e-89c9-4051-8b67-995e7546c68d",
   "metadata": {},
   "outputs": [],
   "source": [
    "PgBineadoz1 = np.zeros(len(KArray)); PgBineadoz2 = np.zeros(len(KArray));\n",
    "PgBineadoz3 = np.zeros(len(KArray)); PgBineadoz4 = np.zeros(len(KArray));\n",
    "PgBineadoz5 = np.zeros(len(KArray)); PgBineadoz6 = np.zeros(len(KArray));\n",
    "PgBineadoz7 = np.zeros(len(KArray));"
   ]
  },
  {
   "cell_type": "code",
   "execution_count": 1740,
   "id": "6455505f-20b1-4192-b5c1-7997d431c94a",
   "metadata": {},
   "outputs": [],
   "source": [
    "PgBineado = np.array([PgBineadoz1,PgBineadoz2,PgBineadoz3,PgBineadoz4,PgBineadoz5,PgBineadoz6,PgBineadoz7])"
   ]
  },
  {
   "cell_type": "code",
   "execution_count": 1741,
   "id": "4a1c7ce7-356a-4077-8fb0-9ac11db57ba5",
   "metadata": {},
   "outputs": [],
   "source": [
    "for i in range(0, len(KArray)):\n",
    "    PgBineado[0][i] = PgmonopoleValores[i]"
   ]
  },
  {
   "cell_type": "markdown",
   "id": "fc03950d-df25-4756-af26-8d3f8cba55b1",
   "metadata": {},
   "source": [
    "Bineamos la covarianza para cuando entre al likelihood"
   ]
  },
  {
   "cell_type": "code",
   "execution_count": 1742,
   "id": "99825173-42c0-4756-bd69-ee1c89d2342a",
   "metadata": {},
   "outputs": [],
   "source": [
    "CovBineadoz1 = np.zeros(len(KArray)); CovBineadoz2 = np.zeros(len(KArray));\n",
    "CovBineadoz3 = np.zeros(len(KArray)); CovBineadoz4 = np.zeros(len(KArray));\n",
    "CovBineadoz5 = np.zeros(len(KArray)); CovBineadoz6 = np.zeros(len(KArray));\n",
    "CovBineadoz7 = np.zeros(len(KArray));"
   ]
  },
  {
   "cell_type": "code",
   "execution_count": 1743,
   "id": "24d7eb32-12c6-49a0-82da-cbd2e321bfaf",
   "metadata": {},
   "outputs": [],
   "source": [
    "CovBineado = np.array([CovBineadoz1,CovBineadoz2,CovBineadoz3,CovBineadoz4,CovBineadoz5,CovBineadoz6,CovBineadoz7])"
   ]
  },
  {
   "cell_type": "code",
   "execution_count": 1744,
   "id": "f8c39187-df44-4961-8ff0-026cd79b8c0b",
   "metadata": {},
   "outputs": [],
   "source": [
    "for i in range(0, len(KArray)):\n",
    "    CovBineado[0][i] = CovEvaluado[i]"
   ]
  },
  {
   "cell_type": "markdown",
   "id": "5324465e-fa53-42a2-9832-e87750e5d664",
   "metadata": {},
   "source": [
    "Construimos el likelihood, siendo j el valor del array de z, i el valor del array de k:"
   ]
  },
  {
   "cell_type": "code",
   "execution_count": 1745,
   "id": "57bc5261-7085-4006-8a35-41039d2db9a6",
   "metadata": {},
   "outputs": [],
   "source": [
    "#Este likelihood es similar a un chi^2. ¿Igual? ¿Factor del log del determinante = log cov?\n",
    "def lnlikeSinSumar(j,i):\n",
    "    return (PgBineado[j][i]-DataPkzTotal[j][i])**2 * 1/CovBineado[j][i] + np.log(CovBineado[j][i])"
   ]
  },
  {
   "cell_type": "markdown",
   "id": "d144cbaa-208c-4780-80e1-519a8723cece",
   "metadata": {},
   "source": [
    "índices en los que queremos evaluar el likelihood y el paso entre ellos. Usamos todos:"
   ]
  },
  {
   "cell_type": "code",
   "execution_count": 1746,
   "id": "7f509987-c126-46f2-aae7-a7e5e2200389",
   "metadata": {},
   "outputs": [],
   "source": [
    "IndicesLikelihood = np.arange(0,len(KArray),1)"
   ]
  },
  {
   "cell_type": "code",
   "execution_count": 1747,
   "id": "52fd2099-9d8b-4784-ac7c-acc8429217f9",
   "metadata": {},
   "outputs": [
    {
     "data": {
      "text/plain": [
       "1749.692599596198"
      ]
     },
     "execution_count": 1747,
     "metadata": {},
     "output_type": "execute_result"
    }
   ],
   "source": [
    "#Likelihood sumando a los índices\n",
    "lnlike = np.sum(lnlikeSinSumar(0,IndicesLikelihood))\n",
    "lnlike"
   ]
  }
 ],
 "metadata": {
  "kernelspec": {
   "display_name": "Python 3 (ipykernel)",
   "language": "python",
   "name": "python3"
  },
  "language_info": {
   "codemirror_mode": {
    "name": "ipython",
    "version": 3
   },
   "file_extension": ".py",
   "mimetype": "text/x-python",
   "name": "python",
   "nbconvert_exporter": "python",
   "pygments_lexer": "ipython3",
   "version": "3.9.6"
  }
 },
 "nbformat": 4,
 "nbformat_minor": 5
}
