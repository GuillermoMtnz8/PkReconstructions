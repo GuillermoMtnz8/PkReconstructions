{
 "cells": [
  {
   "cell_type": "markdown",
   "id": "36692f7d-2790-4968-87ea-d45360882939",
   "metadata": {},
   "source": [
    "# Implementación Modelo J-PAS #"
   ]
  },
  {
   "cell_type": "code",
   "execution_count": 810,
   "id": "71dc3ab4-93a1-4fe4-b213-2d856d95d899",
   "metadata": {},
   "outputs": [],
   "source": [
    "#Paquetes necesarios (seguramente sobra alguno)\n",
    "import numpy as np\n",
    "import math\n",
    "import pandas as pd\n",
    "import scipy as sp\n",
    "import sympy\n",
    "import scipy.integrate as integrate\n",
    "import scipy.special as special\n",
    "from mpmath import *\n",
    "import numpy.testing as testing\n",
    "import camb"
   ]
  },
  {
   "cell_type": "markdown",
   "id": "aff1c440-7807-4772-accc-a02f5f4acca9",
   "metadata": {},
   "source": [
    "Ejemplo de función vectorizada"
   ]
  },
  {
   "cell_type": "code",
   "execution_count": 811,
   "id": "c0ec1101-c96b-433d-9f10-bc4ef06db336",
   "metadata": {},
   "outputs": [],
   "source": [
    "# Your scalar function\n",
    "def my_function(x):\n",
    "    # Example function: square the input\n",
    "    return x**2\n",
    "\n",
    "# Vectorize the function\n",
    "vectorized_function = np.vectorize(my_function)\n",
    "\n",
    "# Input array\n",
    "input_array = np.array([1, 2, 3, 4, 5])\n",
    "\n",
    "# Apply the vectorized function to the array\n",
    "result_array = vectorized_function(input_array)"
   ]
  },
  {
   "cell_type": "code",
   "execution_count": 812,
   "id": "896e746f-8ddc-4526-bf43-3e73d1eaf857",
   "metadata": {},
   "outputs": [
    {
     "data": {
      "text/plain": [
       "array([ 1,  4,  9, 16, 25])"
      ]
     },
     "execution_count": 812,
     "metadata": {},
     "output_type": "execute_result"
    }
   ],
   "source": [
    "vectorized_function(input_array)"
   ]
  },
  {
   "cell_type": "markdown",
   "id": "862ecc62-72da-4031-aa8e-bf02af5c2d02",
   "metadata": {},
   "source": [
    "# Modelo Kaiser + fotometría #"
   ]
  },
  {
   "cell_type": "markdown",
   "id": "be07323a-87d4-43f9-a00e-daba5ba7c133",
   "metadata": {},
   "source": [
    "Bines de k y z"
   ]
  },
  {
   "cell_type": "code",
   "execution_count": 813,
   "id": "582d108a-9ff8-45bf-b19c-529df0d4b19f",
   "metadata": {},
   "outputs": [],
   "source": [
    "#Bines de k, con paso 0.025 en log:\n",
    "KArrayCompleto = np.exp( np.arange(math.log(0.001), math.log(2.4900), 0.025) )\n",
    "KArray = KArrayCompleto[range(121,245)]"
   ]
  },
  {
   "cell_type": "code",
   "execution_count": 814,
   "id": "6a22d1aa-bf1c-43b6-82db-3faa868d34b0",
   "metadata": {},
   "outputs": [],
   "source": [
    "#Bines de z:\n",
    "za = np.arange(1.7, 3, 0.2)"
   ]
  },
  {
   "cell_type": "markdown",
   "id": "8a85b101-a7a8-40b8-8a5e-31cc0c46efc4",
   "metadata": {},
   "source": [
    "Parámetros cosmlógicos"
   ]
  },
  {
   "cell_type": "code",
   "execution_count": 815,
   "id": "f4f95b67-df46-4d43-b204-06001454b24b",
   "metadata": {},
   "outputs": [],
   "source": [
    "#Parámetros cosmológicos directos:\n",
    "hJPAS = 0.674; c = 2.99792458E5; OmegabJPASh2 = 0.02212; OmegaCDMJPASh2 = 0.1206; \n",
    "OmegakJPAS = 0; OmegamJPAS = 0.314170; AsJPAS = 2.09052E-9; nsJPAS = 0.9626; \n",
    "sigma8JPAS = 0.8120;\n"
   ]
  },
  {
   "cell_type": "code",
   "execution_count": 816,
   "id": "05266b9c-a04b-4df9-81e2-756da74ea37f",
   "metadata": {},
   "outputs": [],
   "source": [
    "#Parámetros cosmológicos indirectos:\n",
    "HJPAS = 1/(c/100); OmegabJPAS = OmegabJPASh2/hJPAS**2; OmegaCDMJPAS = OmegaCDMJPASh2/hJPAS**2;\n",
    "OmegaLJPAS = 1 - OmegamJPAS;"
   ]
  },
  {
   "cell_type": "code",
   "execution_count": 817,
   "id": "7fb2aad6-8055-43f2-a3d5-95f521731aee",
   "metadata": {},
   "outputs": [],
   "source": [
    "#Parámetros cosmológicos fuera del fiducial:\n",
    "hJPASNoFid = hJPAS + hJPAS/100;\n",
    "OmegabJPASh2NoFid = OmegabJPASh2 + OmegabJPASh2/100;\n",
    "OmegaCDMJPASh2NoFid = OmegaCDMJPASh2 + OmegaCDMJPASh2/100; \n",
    "OmegamJPASNoFid = OmegamJPAS + OmegamJPAS/100;\n",
    "\n",
    "#Parámetros cosmológicos indirectos fuera del fiducial:\n",
    "OmegabJPASNoFid = OmegabJPASh2NoFid/hJPASNoFid**2; OmegaCDMJPASNoFid = OmegaCDMJPASh2NoFid/hJPASNoFid**2;\n",
    "OmegaLJPASNoFid = 1 - OmegamJPASNoFid;"
   ]
  },
  {
   "cell_type": "markdown",
   "id": "b5122260-b094-41ef-9cd9-8f3c2be51876",
   "metadata": {},
   "source": [
    "Parámetros cosmológicos directos fuera del fiducial"
   ]
  },
  {
   "cell_type": "code",
   "execution_count": 818,
   "id": "7e5201bd-eca5-4d9e-92f1-675db927849c",
   "metadata": {},
   "outputs": [],
   "source": [
    "#Parámetros cosmológicos fuera del fiducial:\n",
    "hJPASNoFid = hJPAS + hJPAS/100;\n",
    "OmegabJPASh2NoFid = OmegabJPASh2 + OmegabJPASh2/100;\n",
    "OmegaCDMJPASh2NoFid = OmegaCDMJPASh2 + OmegaCDMJPASh2/100;\n",
    "OmegamJPASNoFid = (OmegaCDMJPASh2NoFid + OmegabJPASh2NoFid)/hJPAS**2"
   ]
  },
  {
   "cell_type": "markdown",
   "id": "036ac91b-10c0-4f37-819e-97daa7a86044",
   "metadata": {},
   "source": [
    "P(k) de materia desde CAMB"
   ]
  },
  {
   "cell_type": "code",
   "execution_count": 819,
   "id": "6ca3c140-20f5-49c9-9f6d-30bf6f4d80d1",
   "metadata": {},
   "outputs": [
    {
     "name": "stdout",
     "output_type": "stream",
     "text": [
      "Note: redshifts have been re-sorted (earliest first)\n"
     ]
    }
   ],
   "source": [
    "#Llamamos a CAMB aquí.\n",
    "#Damos los parámetros cosmológicos para CAMB\n",
    "pars = camb.CAMBparams()\n",
    "pars.set_cosmology(H0=100*hJPAS, ombh2=OmegabJPASh2, omch2=OmegaCDMJPASh2, mnu=0, omk=0, tau=0.06);\n",
    "pars.set_matter_power(redshifts=za, kmax=KArrayCompleto[-1]);"
   ]
  },
  {
   "cell_type": "code",
   "execution_count": 820,
   "id": "635eb639-87ac-48af-ae95-3db7331b6d31",
   "metadata": {},
   "outputs": [],
   "source": [
    "#Aquí ya trabajamos con los resultados de CAMB 'results' y 'background':\n",
    "results = camb.get_results(pars)\n",
    "background = camb.get_background(pars, no_thermo=False)\n",
    "\n",
    "#Con este comando calculamos el P de materia (en za) en el array de K.\n",
    "#Se guardan los 3 arrays a la vez ya que el output los da así:\n",
    "kmatCAMB, zaCAMB, PmatCAMB = results.get_matter_power_spectrum(minkh=KArrayCompleto[0], maxkh=KArrayCompleto[-1], npoints = len(KArrayCompleto))"
   ]
  },
  {
   "cell_type": "code",
   "execution_count": 821,
   "id": "8fa7fab7-3a98-4e34-bb42-6be0691a0bab",
   "metadata": {},
   "outputs": [],
   "source": [
    "#Importamos otro CAMB leyendo datos a z=0\n",
    "parsz0 = camb.CAMBparams()\n",
    "parsz0.set_cosmology(H0=100*hJPAS, ombh2=OmegabJPASh2, omch2=OmegaCDMJPASh2NoFid, mnu=0, omk=0, tau=0.06);\n",
    "parsz0.set_matter_power(redshifts=[0], kmax=KArrayCompleto[-1]);\n",
    "resultsz0 = camb.get_results(parsz0)\n",
    "backgroundz0 = camb.get_background(parsz0, no_thermo=False)\n",
    "kmatCAMBz0, zaCAMBz0, PmatCAMBz0 = resultsz0.get_matter_power_spectrum(minkh=KArrayCompleto[0], maxkh=KArrayCompleto[-1], npoints = len(KArrayCompleto))"
   ]
  },
  {
   "cell_type": "code",
   "execution_count": 822,
   "id": "84a5dbf1-de30-499c-8a7a-e087f01612c5",
   "metadata": {},
   "outputs": [],
   "source": [
    "#Importamos otro CAMB leyendo datos fuera del fiducial\n",
    "parsNoFid = camb.CAMBparams()\n",
    "parsNoFid.set_cosmology(H0=100*hJPASNoFid, ombh2=OmegabJPASh2, omch2=OmegaCDMJPASh2NoFid, mnu=0, omk=0, tau=0.06);\n",
    "parsNoFid.set_matter_power(redshifts=[0], kmax=KArrayCompleto[-1]);\n",
    "resultsz0 = camb.get_results(parsz0)\n",
    "backgroundz0 = camb.get_background(parsz0, no_thermo=False)\n",
    "kmatCAMBz0, zaCAMBz0, PmatCAMBz0 = resultsz0.get_matter_power_spectrum(minkh=KArrayCompleto[0], maxkh=KArrayCompleto[-1], npoints = len(KArrayCompleto))"
   ]
  },
  {
   "cell_type": "code",
   "execution_count": 823,
   "id": "a39e0d9e-1475-4289-affd-62e02533bcf4",
   "metadata": {},
   "outputs": [
    {
     "name": "stdout",
     "output_type": "stream",
     "text": [
      "Note: redshifts have been re-sorted (earliest first)\n"
     ]
    }
   ],
   "source": [
    "#Otro CAMB leyendo zaupper\n",
    "parszupper = camb.CAMBparams()\n",
    "parszupper.set_cosmology(H0=100*hJPAS, ombh2=OmegabJPASh2, omch2=OmegaCDMJPASh2NoFid, mnu=0, omk=0, tau=0.06);\n",
    "parszupper.set_matter_power(redshifts=za+0.1, kmax=KArrayCompleto[-1]);\n",
    "resultszupper = camb.get_results(parszupper)\n",
    "backgroundzupper = camb.get_background(parszupper, no_thermo=False)"
   ]
  },
  {
   "cell_type": "code",
   "execution_count": 824,
   "id": "ce610edd-479e-40a3-b048-03f8ea8a9118",
   "metadata": {},
   "outputs": [
    {
     "name": "stdout",
     "output_type": "stream",
     "text": [
      "Note: redshifts have been re-sorted (earliest first)\n"
     ]
    }
   ],
   "source": [
    "#Otro CAMB leyendo zalower\n",
    "parszlower = camb.CAMBparams()\n",
    "parszlower.set_cosmology(H0=100*hJPAS, ombh2=OmegabJPASh2, omch2=OmegaCDMJPASh2NoFid, mnu=0, omk=0, tau=0.06);\n",
    "parszlower.set_matter_power(redshifts=za-0.1, kmax=KArrayCompleto[-1]);\n",
    "resultszlower = camb.get_results(parszlower)\n",
    "backgroundzlower = camb.get_background(parszlower, no_thermo=False)"
   ]
  },
  {
   "cell_type": "code",
   "execution_count": 825,
   "id": "ca8f229e-5ff9-4be2-b5b2-2fd779c9a69f",
   "metadata": {},
   "outputs": [],
   "source": [
    "#Se interpola en k el P(k) a z=0:\n",
    "def PmatInterCAMB(k):\n",
    "  return np.interp(k, kmatCAMBz0, PmatCAMBz0[0])"
   ]
  },
  {
   "cell_type": "markdown",
   "id": "b133a9e1-1c43-4167-a9d4-f3c56732c1ba",
   "metadata": {},
   "source": [
    "Funciones E(z) y f(z) desde CAMB"
   ]
  },
  {
   "cell_type": "code",
   "execution_count": 826,
   "id": "1aedf65a-183b-4e32-b0b2-0c8aec0773d6",
   "metadata": {},
   "outputs": [],
   "source": [
    "#Leemos el valor que usa CAMB para Omegam (¿distinto de lo esperado?)\n",
    "OmegamCAMB = np.array(results.get_Omega('baryon'))+np.array(results.get_Omega('cdm'))"
   ]
  },
  {
   "cell_type": "code",
   "execution_count": 827,
   "id": "deadfc96-74ae-4450-94ff-395fd9dac5f4",
   "metadata": {},
   "outputs": [],
   "source": [
    "EzCAMB = np.sqrt( OmegamCAMB*(1+za)**3+(1-OmegamCAMB) )"
   ]
  },
  {
   "cell_type": "code",
   "execution_count": 828,
   "id": "1b3cbe3f-ab25-4d98-b898-448424114649",
   "metadata": {},
   "outputs": [],
   "source": [
    "HCAMB = HJPAS * EzCAMB"
   ]
  },
  {
   "cell_type": "code",
   "execution_count": 829,
   "id": "f0f7a8bd-d31e-49d3-b053-f4440332e17a",
   "metadata": {},
   "outputs": [],
   "source": [
    "#Este es el sigma8 para los bines de z\n",
    "sigma8CAMBReves = np.array(results.get_sigma8())\n",
    "sigma8CAMB = sigma8CAMBReves[::-1]"
   ]
  },
  {
   "cell_type": "code",
   "execution_count": 830,
   "id": "ba58c47b-ed76-4b10-bf31-5123609b9bfa",
   "metadata": {},
   "outputs": [],
   "source": [
    "#Llamando a fsigma8 de CAMB y dividiendo entre sigma8 obtenemos f(z).\n",
    "#La ordenación se hace de z más alto a z más bajo y la cambiamos\n",
    "fCAMBReves = np.array(results.get_fsigma8())/sigma8CAMBReves\n",
    "fCAMB = fCAMBReves[::-1]"
   ]
  },
  {
   "cell_type": "code",
   "execution_count": 831,
   "id": "218dfaff-75a5-4a7d-a9c5-cb39a5c25c1b",
   "metadata": {},
   "outputs": [],
   "source": [
    "#El growth factor D(z) no está directamente en CAMB, pero su forma es igual que la de sigmaR.\n",
    "#Por tanto, usamos el sigmaR normalizado\n",
    "DeCAMBReves = results.get_sigmaR(8)/resultsz0.get_sigmaR(8)[0]\n",
    "DeCAMB = DeCAMBReves[::-1]"
   ]
  },
  {
   "cell_type": "markdown",
   "id": "3a95e0c8-9653-4e66-aacf-04c4175ad547",
   "metadata": {},
   "source": [
    "Función A(z)"
   ]
  },
  {
   "cell_type": "code",
   "execution_count": 832,
   "id": "182d918b-ce0a-4b7d-8566-7a95932e1e53",
   "metadata": {},
   "outputs": [],
   "source": [
    "def bJPAS(z):\n",
    "  return 0.53+0.289*(1+z)**2"
   ]
  },
  {
   "cell_type": "code",
   "execution_count": 833,
   "id": "a03d414b-c331-4582-89b4-264ed26e8030",
   "metadata": {},
   "outputs": [],
   "source": [
    "#Notar aquí que el sigma8JPAS se pone por seguir la notación de Maroto, ya que luego se va\n",
    "ACAMB = DeCAMB*bJPAS(za)*sigma8JPAS"
   ]
  },
  {
   "cell_type": "markdown",
   "id": "ed24ee8b-7fcc-4afd-b750-079bd22d04f1",
   "metadata": {},
   "source": [
    "Función R(z)"
   ]
  },
  {
   "cell_type": "code",
   "execution_count": 834,
   "id": "4ef3ab88-0e2e-4bf3-9c41-407e976da83f",
   "metadata": {},
   "outputs": [],
   "source": [
    "RCAMB = DeCAMB*fCAMB*sigma8JPAS"
   ]
  },
  {
   "cell_type": "markdown",
   "id": "02582604-006d-491c-beaa-e9fd4a1c17fc",
   "metadata": {},
   "source": [
    "Función sigmar(z)"
   ]
  },
  {
   "cell_type": "code",
   "execution_count": 835,
   "id": "0fb4bf39-3511-46a6-b0f9-fa9194a262d0",
   "metadata": {},
   "outputs": [],
   "source": [
    "DeltazJPAS = 0.00364236313918151"
   ]
  },
  {
   "cell_type": "code",
   "execution_count": 836,
   "id": "ebba8399-0c7e-4acb-afa7-eabfeaa74e0d",
   "metadata": {},
   "outputs": [],
   "source": [
    "sigmarCAMB = DeltazJPAS*(1+za)/HCAMB"
   ]
  },
  {
   "cell_type": "code",
   "execution_count": 837,
   "id": "7fc13a1e-6520-40d3-ae7f-c1ad5f815533",
   "metadata": {},
   "outputs": [],
   "source": [
    "def PmatInterCAMBz0(k):\n",
    "    return PmatInterCAMB(k)/(DeCAMB[0]**2)"
   ]
  },
  {
   "cell_type": "markdown",
   "id": "8ad0e943-6b4d-4eaf-9921-81e2b84d9841",
   "metadata": {},
   "source": [
    "Modelo Kaiser"
   ]
  },
  {
   "cell_type": "code",
   "execution_count": 838,
   "id": "2c2f82f0-955a-4624-a666-3ce7852248f1",
   "metadata": {},
   "outputs": [],
   "source": [
    "def PJPASAntesFingersAntesAPCAMB(mu,k):\n",
    "  return (ACAMB[0]+RCAMB[0]*mu**2)**2*PmatInterCAMB(k)/sigma8JPAS**2*np.exp(-(k*mu*sigmarCAMB[0])**2)"
   ]
  },
  {
   "cell_type": "code",
   "execution_count": 839,
   "id": "5a206c1f-2dc6-498c-9831-fa3b16d48f27",
   "metadata": {},
   "outputs": [
    {
     "data": {
      "text/plain": [
       "2727.9330960696807"
      ]
     },
     "execution_count": 839,
     "metadata": {},
     "output_type": "execute_result"
    }
   ],
   "source": [
    "PJPASAntesFingersAntesAPCAMB(0.1,0.2)"
   ]
  },
  {
   "cell_type": "markdown",
   "id": "e79ea90b-e89c-463a-bcf8-bb1c082abb45",
   "metadata": {},
   "source": [
    "# Fingers of God #"
   ]
  },
  {
   "cell_type": "markdown",
   "id": "b24fa2fe-380c-4d57-9ca7-156cc6977292",
   "metadata": {},
   "source": [
    "Parámetro dispersión velocidades. Parece que esto hay que hacerlo solo 1 vez, con el Pmat del fiducial"
   ]
  },
  {
   "cell_type": "code",
   "execution_count": 840,
   "id": "dcf819cb-0bd9-484f-9f5a-1236ce3ce803",
   "metadata": {},
   "outputs": [],
   "source": [
    "import scipy.integrate as integrate"
   ]
  },
  {
   "cell_type": "code",
   "execution_count": 841,
   "id": "d0fb20bc-aae7-4d72-b4ef-e4a639e97458",
   "metadata": {
    "scrolled": true
   },
   "outputs": [
    {
     "name": "stderr",
     "output_type": "stream",
     "text": [
      "/var/folders/1h/0trg724n2fg2pn5j02gypgzc0000gn/T/ipykernel_40184/3390978684.py:1: IntegrationWarning: The maximum number of subdivisions (50) has been achieved.\n",
      "  If increasing the limit yields no improvement it is advised to analyze \n",
      "  the integrand in order to determine the difficulties.  If the position of a \n",
      "  local difficulty can be determined (singularity, discontinuity) one will \n",
      "  probably gain from splitting up the interval and calling the integrator \n",
      "  on the subranges.  Perhaps a special-purpose integrator should be used.\n",
      "  sigmapJPAS = (1/(6*np.pi**2)*(DeCAMB/1)**2*integrate.quad(lambda k: PmatInterCAMB(k), KArrayCompleto[0], KArrayCompleto[len(KArrayCompleto)-1])[0])**0.5\n"
     ]
    }
   ],
   "source": [
    "sigmapJPAS = (1/(6*np.pi**2)*(DeCAMB/1)**2*integrate.quad(lambda k: PmatInterCAMB(k), KArrayCompleto[0], KArrayCompleto[len(KArrayCompleto)-1])[0])**0.5"
   ]
  },
  {
   "cell_type": "markdown",
   "id": "a58c9f0e-5d45-4099-a9f2-ae4c860e935c",
   "metadata": {},
   "source": [
    "Cómputo factor Fingers of God"
   ]
  },
  {
   "cell_type": "code",
   "execution_count": 842,
   "id": "2d4a03a8-5ad0-4901-82a8-159a1bd1ba6c",
   "metadata": {},
   "outputs": [],
   "source": [
    "def FFog(mu,k):\n",
    "    return 1/(1+(fCAMB[0]*k*mu*sigmapJPAS[0])**2)"
   ]
  },
  {
   "cell_type": "markdown",
   "id": "0aed4ce6-a6b9-4ef9-8ed2-d3e4f312dff5",
   "metadata": {},
   "source": [
    "P(k) de galaxias con FFoG"
   ]
  },
  {
   "cell_type": "code",
   "execution_count": 843,
   "id": "061a36a9-b31b-4994-96a5-363f9cac9cc5",
   "metadata": {},
   "outputs": [],
   "source": [
    "def PJPASAntesAPCAMB(mu,k):\n",
    "    return FFog(mu,k)*PJPASAntesFingersAntesAPCAMB(mu,k)"
   ]
  },
  {
   "cell_type": "markdown",
   "id": "26dded72-671a-4b35-bcdf-d3a5bc0ac3bd",
   "metadata": {},
   "source": [
    "# Efecto AP #"
   ]
  },
  {
   "cell_type": "markdown",
   "id": "a6ba6523-9f9f-4ac1-a04c-cd10126d01e6",
   "metadata": {},
   "source": [
    "Integración de la distancia comóvil"
   ]
  },
  {
   "cell_type": "code",
   "execution_count": 844,
   "id": "a048e0b4-d679-4cb5-ab6e-f955c99678d5",
   "metadata": {},
   "outputs": [],
   "source": [
    "XiCAMB = results.comoving_radial_distance(za)*hJPAS"
   ]
  },
  {
   "cell_type": "markdown",
   "id": "ee29c7e5-bf17-4076-9fdf-19d712663562",
   "metadata": {},
   "source": [
    "Distancia angular"
   ]
  },
  {
   "cell_type": "code",
   "execution_count": 845,
   "id": "cc502cf3-a5e0-48d4-bc83-942b7b029d30",
   "metadata": {},
   "outputs": [],
   "source": [
    "#Multiplicamos por h para tener unidades h/Mpc:\n",
    "DaCAMB = XiCAMB/(1+za)"
   ]
  },
  {
   "cell_type": "markdown",
   "id": "2a13d9bf-aff8-4919-b134-f1c31d9dac2e",
   "metadata": {},
   "source": [
    "Función de distorsión del AP"
   ]
  },
  {
   "cell_type": "code",
   "execution_count": 846,
   "id": "ed04df18-d4f5-4a82-be3a-aaf2345e0f42",
   "metadata": {},
   "outputs": [],
   "source": [
    "def QCAMB(mu):\n",
    "    return ((EzCAMB[0]*XiCAMB[0]*mu**2-EzCAMB[0]**2*XiCAMB[0]**2*(mu**2-1))**0.5/(EzCAMB[0]*XiCAMB[0]))"
   ]
  },
  {
   "cell_type": "markdown",
   "id": "52c25625-6c87-47a3-b378-eb9fbf0821f8",
   "metadata": {},
   "source": [
    "Mus y ks distorsionados"
   ]
  },
  {
   "cell_type": "code",
   "execution_count": 847,
   "id": "96492410-a8a1-4dad-85e5-a3b58c01bf00",
   "metadata": {},
   "outputs": [],
   "source": [
    "def muNoFidCAMB(mu):\n",
    "    return mu*  EzCAMB[0]/(EzCAMB[0]*QCAMB(mu))"
   ]
  },
  {
   "cell_type": "code",
   "execution_count": 848,
   "id": "fa72b15c-43b3-4e7c-bd50-3feed5584bfd",
   "metadata": {},
   "outputs": [],
   "source": [
    "def kNoFidCAMB(mu,k):\n",
    "    return QCAMB(mu)*k"
   ]
  },
  {
   "cell_type": "markdown",
   "id": "1159141f-2b9b-40a7-bd69-920662efde41",
   "metadata": {},
   "source": [
    "Factor AP a incluir en el P de galaxias:"
   ]
  },
  {
   "cell_type": "code",
   "execution_count": 849,
   "id": "b2afd688-e49e-4bf7-a52b-d65289a3a7bd",
   "metadata": {},
   "outputs": [],
   "source": [
    "FactorAPCAMB = DaCAMB**2*EzCAMB/( DaCAMB**2*EzCAMB )"
   ]
  },
  {
   "cell_type": "markdown",
   "id": "3f016df0-fdf8-40a5-be35-aebb0d9872a0",
   "metadata": {},
   "source": [
    "P de galaxias con factor AP y los anteriores"
   ]
  },
  {
   "cell_type": "code",
   "execution_count": 850,
   "id": "6a1080c4-bc7a-4020-8cfc-3138d1454a76",
   "metadata": {},
   "outputs": [],
   "source": [
    "def PgCAMB(mu,k):\n",
    "    return FactorAPCAMB[0]*FFog(muNoFidCAMB(mu),kNoFidCAMB(mu,k))*(ACAMB[0]+RCAMB[0]*muNoFidCAMB(mu)**2)**2 * PmatInterCAMB(kNoFidCAMB(mu,k))/sigma8JPAS**2 *np.exp(-(k*mu*sigmarCAMB[0])**2)"
   ]
  },
  {
   "cell_type": "markdown",
   "id": "1323a3e4-dec5-46ff-8b4f-f2be937e7362",
   "metadata": {},
   "source": [
    "# P galaxy monopole #"
   ]
  },
  {
   "cell_type": "code",
   "execution_count": 851,
   "id": "2b7f790d-c8d2-478b-b68c-840e96c23bae",
   "metadata": {},
   "outputs": [],
   "source": [
    "def PgmonopoleCAMB(k, axis = 0):\n",
    "    mu = np.arange(-0.90, 0.90, 1/100)\n",
    "    return 1/2 * integrate.trapz(mu, (lambda x: PgCAMB(x, k))(mu), axis = axis)"
   ]
  },
  {
   "cell_type": "code",
   "execution_count": 852,
   "id": "fe8e6f02-774c-45d0-b46d-26077f9b4ebb",
   "metadata": {},
   "outputs": [],
   "source": [
    "PgmonopoleCAMBValores = np.zeros(len(KArray)-1)\n",
    "for i in range(0, len(KArray)-1):\n",
    "    PgmonopoleCAMBValores[i] = PgmonopoleCAMB(KArray[i])"
   ]
  },
  {
   "cell_type": "code",
   "execution_count": 853,
   "id": "1c1c8d64-c7a4-4bfd-8a63-8fb929e24768",
   "metadata": {},
   "outputs": [
    {
     "data": {
      "text/plain": [
       "array([ 1.06010749e+05,  1.07365348e+05,  1.08690847e+05,  1.09983893e+05,\n",
       "        1.11240964e+05,  1.12458356e+05,  1.13632208e+05,  1.14758513e+05,\n",
       "        1.15833092e+05,  1.16851586e+05,  1.17809500e+05,  1.18702209e+05,\n",
       "        1.19524921e+05,  1.20272684e+05,  1.20940446e+05,  1.21523082e+05,\n",
       "        1.22015362e+05,  1.22411961e+05,  1.22707558e+05,  1.22896862e+05,\n",
       "        1.22974599e+05,  1.22935540e+05,  1.22774609e+05,  1.22486924e+05,\n",
       "        1.22067759e+05,  1.21512601e+05,  1.20817272e+05,  1.19978052e+05,\n",
       "        1.18991804e+05,  1.17856009e+05,  1.16568791e+05,  1.15128907e+05,\n",
       "        1.13535622e+05,  1.11788795e+05,  1.09888975e+05,  1.07837822e+05,\n",
       "        1.05638486e+05,  1.03295501e+05,  1.00814498e+05,  9.82021040e+04,\n",
       "        9.54658616e+04,  9.26143295e+04,  8.96571827e+04,  8.66053929e+04,\n",
       "        8.34710145e+04,  8.02671829e+04,  7.70077552e+04,  7.37073028e+04,\n",
       "        7.03809646e+04,  6.70444084e+04,  6.37131828e+04,  6.04025218e+04,\n",
       "        5.71271577e+04,  5.39011259e+04,  5.07373692e+04,  4.76477324e+04,\n",
       "        4.46428432e+04,  4.17321757e+04,  3.89233245e+04,  3.62215583e+04,\n",
       "        3.36299796e+04,  3.11496771e+04,  2.87805869e+04,  2.65224934e+04,\n",
       "        2.43750933e+04,  2.23381464e+04,  2.04101933e+04,  1.85876925e+04,\n",
       "        1.68657507e+04,  1.52388903e+04,  1.37032567e+04,  1.22568461e+04,\n",
       "        1.08991719e+04,  9.63005631e+03,  8.44912843e+03,  7.35542461e+03,\n",
       "        6.34751145e+03,  5.42358827e+03,  4.58125636e+03,  3.81739877e+03,\n",
       "        3.12824033e+03,  2.50950022e+03,  1.95662430e+03,  1.46507525e+03,\n",
       "        1.03079428e+03,  6.50350843e+02,  3.21120936e+02,  4.10163115e+01,\n",
       "       -1.91756981e+02, -3.78971078e+02, -5.22694909e+02, -6.25760699e+02,\n",
       "       -6.92213956e+02, -7.27398460e+02, -7.37609238e+02, -7.29508572e+02,\n",
       "       -7.09471969e+02, -6.82864872e+02, -6.53469327e+02, -6.23369152e+02,\n",
       "       -5.93152444e+02, -5.62338512e+02, -5.30116309e+02, -4.96219668e+02,\n",
       "       -4.61262743e+02, -4.26472196e+02, -3.93325828e+02, -3.63090418e+02,\n",
       "       -3.36244842e+02, -3.12376580e+02, -2.90584451e+02, -2.69913788e+02,\n",
       "       -2.49815948e+02, -2.30416637e+02, -2.12228069e+02, -1.95711868e+02,\n",
       "       -1.80994611e+02, -1.67761174e+02, -1.55510274e+02, -1.43873067e+02,\n",
       "       -1.32801245e+02, -1.22487903e+02, -1.13088791e+02])"
      ]
     },
     "execution_count": 853,
     "metadata": {},
     "output_type": "execute_result"
    }
   ],
   "source": [
    "PgmonopoleCAMBValores"
   ]
  },
  {
   "cell_type": "markdown",
   "id": "aaa03b6c-8557-438c-b8a3-66c86edafb2c",
   "metadata": {},
   "source": [
    "# Covarianza #"
   ]
  },
  {
   "cell_type": "markdown",
   "id": "c2c6cc90-f0f2-460f-b702-bae4c68bf988",
   "metadata": {},
   "source": [
    "Importación y lectura de las densidades"
   ]
  },
  {
   "cell_type": "code",
   "execution_count": 854,
   "id": "f85afc69-77c2-4766-941b-15af22384b5d",
   "metadata": {},
   "outputs": [],
   "source": [
    "ImportacionDensityHighZ = [i.strip().split() for i in open(\"/Users/guillermo/Desktop/DensityHighZ.dat\").readlines()]"
   ]
  },
  {
   "cell_type": "code",
   "execution_count": 855,
   "id": "91a3c4cf-35ce-46ff-81ed-3f5fd4043b05",
   "metadata": {},
   "outputs": [],
   "source": [
    "DensityHighZ = np.zeros(len(ImportacionDensityHighZ));"
   ]
  },
  {
   "cell_type": "code",
   "execution_count": 856,
   "id": "1ec41597-e55b-48aa-88ab-fea6963cb675",
   "metadata": {},
   "outputs": [],
   "source": [
    "for i in range(0, len(ImportacionDensityHighZ)):\n",
    "  DensityHighZ[i] = ImportacionDensityHighZ[i][1]"
   ]
  },
  {
   "cell_type": "markdown",
   "id": "ce7a6aad-fd36-4312-a597-7bafe3ca8da2",
   "metadata": {},
   "source": [
    "Definición de funciones necesarias para la covarianza.\n",
    "Definición del volumen (requiere distancia angular con unidades), y binear en zupper y zlower"
   ]
  },
  {
   "cell_type": "code",
   "execution_count": 857,
   "id": "1742cb77-d213-4e3c-a9e2-91b5fe8ccdd0",
   "metadata": {},
   "outputs": [],
   "source": [
    "XiConC = c*XiCAMB"
   ]
  },
  {
   "cell_type": "code",
   "execution_count": 858,
   "id": "eea683f1-37ac-4f21-acc3-0bc979ec1386",
   "metadata": {},
   "outputs": [],
   "source": [
    "zaupper = za+(za[[1]]-za[[0]])/2;    zalower = za-(za[[1]]-za[[0]])/2;"
   ]
  },
  {
   "cell_type": "code",
   "execution_count": 859,
   "id": "d234cea8-7460-46e6-b12e-ba624f2f7650",
   "metadata": {},
   "outputs": [],
   "source": [
    "XiCAMBZaLower = resultszlower.comoving_radial_distance(zalower)*hJPAS\n",
    "XiCAMBZaUpper = resultszupper.comoving_radial_distance(zaupper)*hJPAS"
   ]
  },
  {
   "cell_type": "code",
   "execution_count": 860,
   "id": "31a831c4-8727-47d5-be44-1ee0737156d0",
   "metadata": {},
   "outputs": [],
   "source": [
    "fsky = 0.2575;"
   ]
  },
  {
   "cell_type": "code",
   "execution_count": 861,
   "id": "c67302d7-d9af-4924-981c-c604138afa44",
   "metadata": {},
   "outputs": [],
   "source": [
    "Vol = 4*np.pi*fsky/3*(XiCAMBZaUpper**3-XiCAMBZaLower**3)"
   ]
  },
  {
   "cell_type": "markdown",
   "id": "d047bdf0-a91a-464a-9a1b-ccf0c0f166e8",
   "metadata": {},
   "source": [
    "Definición del número de modos (requiere arrays en kupper y klower)"
   ]
  },
  {
   "cell_type": "code",
   "execution_count": 862,
   "id": "8b699311-1c87-426e-8cbb-d7895667eb37",
   "metadata": {},
   "outputs": [],
   "source": [
    "KArrayUpper = np.zeros(len(KArray)); KArrayLower = np.zeros(len(KArray));"
   ]
  },
  {
   "cell_type": "code",
   "execution_count": 863,
   "id": "c1d5ed06-76fe-4b2e-a7a0-abb297b5670e",
   "metadata": {},
   "outputs": [],
   "source": [
    "for i in range(0, len(KArray)-1):\n",
    "  KArrayUpper[i] = KArray[i] + (KArray[i+1]-KArray[i])/2;   KArrayLower[i] = KArray[i] - (KArray[i+1]-KArray[i])/2;"
   ]
  },
  {
   "cell_type": "code",
   "execution_count": 864,
   "id": "82ef783f-b379-426b-a5ec-d42e70af25ea",
   "metadata": {},
   "outputs": [],
   "source": [
    "KArrayUpper[len(KArray)-1] = KArrayUpper[len(KArray)-2];  KArrayLower[len(KArray)-1] = KArrayLower[len(KArray)-2];"
   ]
  },
  {
   "cell_type": "code",
   "execution_count": 865,
   "id": "20545494-48be-4da9-afed-e30b59a8e142",
   "metadata": {},
   "outputs": [],
   "source": [
    "def Nk(k1,k2):\n",
    "    return Vol[0] * (4*np.pi/3*(k1**3-k2**3))/((2*np.pi)**3)"
   ]
  },
  {
   "cell_type": "code",
   "execution_count": 866,
   "id": "f3421f6d-c604-4841-a1df-456c299a8b3e",
   "metadata": {},
   "outputs": [],
   "source": [
    "NkEvaluado = np.zeros(len(KArray)-1)\n",
    "for i in range(0, len(KArray)-1):\n",
    "    NkEvaluado[i] = Nk(KArrayUpper[i],KArrayLower[i])"
   ]
  },
  {
   "cell_type": "markdown",
   "id": "a673189c-9252-4a94-831e-9e5ac8ba0387",
   "metadata": {},
   "source": [
    "Definición de la covarianza"
   ]
  },
  {
   "cell_type": "code",
   "execution_count": 867,
   "id": "f12caec6-001c-4e6e-a6af-c6eab5b7be85",
   "metadata": {},
   "outputs": [],
   "source": [
    "def Cov(k,k1,k2):\n",
    "    return 2 * (PgmonopoleCAMB(k) + 1/DensityHighZ[0])**2 / Nk(k1,k2)"
   ]
  },
  {
   "cell_type": "code",
   "execution_count": 868,
   "id": "4ba039f5-ab33-4e02-98b7-1fadfd214701",
   "metadata": {},
   "outputs": [],
   "source": [
    "Cov = (PgmonopoleCAMBValores + 1/DensityHighZ[0])**2 / NkEvaluado"
   ]
  },
  {
   "cell_type": "markdown",
   "id": "4303b5df-b3cc-4b80-ae08-e1b3c9e4a568",
   "metadata": {},
   "source": [
    "# Lectura de datos #"
   ]
  },
  {
   "cell_type": "markdown",
   "id": "84f5b285-c5a3-4b57-b513-1f324713b4ed",
   "metadata": {},
   "source": [
    "Importación del Monopolo simulado"
   ]
  },
  {
   "cell_type": "code",
   "execution_count": 869,
   "id": "c4658e8c-972d-4306-be11-6b42d5687d22",
   "metadata": {},
   "outputs": [],
   "source": [
    "ImportacionDatosHighZ = [i.strip().split() for i in open(\"/Users/guillermo/Desktop/FicticioHighZArrayEnK.dat\").readlines()]"
   ]
  },
  {
   "cell_type": "code",
   "execution_count": 870,
   "id": "722d18d7-dc79-4120-9d50-8d064254f5c3",
   "metadata": {},
   "outputs": [],
   "source": [
    "DataPkzTotal = np.zeros(len(za));"
   ]
  },
  {
   "cell_type": "code",
   "execution_count": 871,
   "id": "769c0ad6-133e-4bf9-b6e8-7b53446d6b91",
   "metadata": {},
   "outputs": [],
   "source": [
    "Pk1 = np.zeros(len(ImportacionDatosHighZ)); Pk2 = np.zeros(len(ImportacionDatosHighZ));\n",
    "Pk3 = np.zeros(len(ImportacionDatosHighZ)); Pk4 = np.zeros(len(ImportacionDatosHighZ));\n",
    "Pk5 = np.zeros(len(ImportacionDatosHighZ)); Pk6 = np.zeros(len(ImportacionDatosHighZ));\n",
    "Pk7 = np.zeros(len(ImportacionDatosHighZ));"
   ]
  },
  {
   "cell_type": "code",
   "execution_count": 872,
   "id": "2f5ff312-1289-4c23-ba19-b8f5e483ed05",
   "metadata": {},
   "outputs": [],
   "source": [
    "for i in range(0, len(ImportacionDatosHighZ)-1):\n",
    "  Pk1[i] = ImportacionDatosHighZ[i][2]; Pk2[i] = ImportacionDatosHighZ[i][3]; Pk3[i] = ImportacionDatosHighZ[i][4];\n",
    "  Pk4[i] = ImportacionDatosHighZ[i][5]; Pk5[i] = ImportacionDatosHighZ[i][6]; Pk6[i] = ImportacionDatosHighZ[i][7];\n",
    "  Pk7[i] = ImportacionDatosHighZ[i][8]"
   ]
  },
  {
   "cell_type": "code",
   "execution_count": 873,
   "id": "ac24b403-e9cd-4d30-942f-c48179b59c87",
   "metadata": {},
   "outputs": [],
   "source": [
    "DataPkzTotal = np.array([Pk1,Pk2,Pk3,Pk4,Pk5,Pk6,Pk7])"
   ]
  },
  {
   "cell_type": "markdown",
   "id": "272bac72-fc02-454f-a470-74ecb6927839",
   "metadata": {},
   "source": [
    "# Likelihood #"
   ]
  },
  {
   "cell_type": "markdown",
   "id": "e6ea7ea8-c375-48ec-bbe8-ad4ba2996d00",
   "metadata": {},
   "source": [
    "Bineamos los elementos del likelihood:"
   ]
  },
  {
   "cell_type": "code",
   "execution_count": 874,
   "id": "99825173-42c0-4756-bd69-ee1c89d2342a",
   "metadata": {},
   "outputs": [],
   "source": [
    "CovBineadoz1 = np.zeros(len(KArray)); CovBineadoz2 = np.zeros(len(KArray));\n",
    "CovBineadoz3 = np.zeros(len(KArray)); CovBineadoz4 = np.zeros(len(KArray));\n",
    "CovBineadoz5 = np.zeros(len(KArray)); CovBineadoz6 = np.zeros(len(KArray));\n",
    "CovBineadoz7 = np.zeros(len(KArray));"
   ]
  },
  {
   "cell_type": "code",
   "execution_count": 875,
   "id": "24d7eb32-12c6-49a0-82da-cbd2e321bfaf",
   "metadata": {},
   "outputs": [],
   "source": [
    "CovBineado = np.array([CovBineadoz1,CovBineadoz2,CovBineadoz3,CovBineadoz4,CovBineadoz5,CovBineadoz6,CovBineadoz7])"
   ]
  },
  {
   "cell_type": "code",
   "execution_count": 876,
   "id": "f8c39187-df44-4961-8ff0-026cd79b8c0b",
   "metadata": {},
   "outputs": [],
   "source": [
    "for i in range(0, len(KArray)-1):\n",
    "    CovBineado[0][i] = Cov[i]"
   ]
  },
  {
   "cell_type": "code",
   "execution_count": 877,
   "id": "1bb4928e-89c9-4051-8b67-995e7546c68d",
   "metadata": {},
   "outputs": [],
   "source": [
    "PgBineadoz1 = np.zeros(len(KArray)); PgBineadoz2 = np.zeros(len(KArray));\n",
    "PgBineadoz3 = np.zeros(len(KArray)); PgBineadoz4 = np.zeros(len(KArray));\n",
    "PgBineadoz5 = np.zeros(len(KArray)); PgBineadoz6 = np.zeros(len(KArray));\n",
    "PgBineadoz7 = np.zeros(len(KArray));"
   ]
  },
  {
   "cell_type": "code",
   "execution_count": 878,
   "id": "6455505f-20b1-4192-b5c1-7997d431c94a",
   "metadata": {},
   "outputs": [],
   "source": [
    "PgBineado = np.array([PgBineadoz1,PgBineadoz2,PgBineadoz3,PgBineadoz4,PgBineadoz5,PgBineadoz6,PgBineadoz7])"
   ]
  },
  {
   "cell_type": "code",
   "execution_count": 879,
   "id": "4a1c7ce7-356a-4077-8fb0-9ac11db57ba5",
   "metadata": {},
   "outputs": [],
   "source": [
    "for i in range(0, len(KArray)-1):\n",
    "    PgBineado[0][i] = PgmonopoleCAMBValores[i]"
   ]
  },
  {
   "cell_type": "code",
   "execution_count": 880,
   "id": "57bc5261-7085-4006-8a35-41039d2db9a6",
   "metadata": {},
   "outputs": [],
   "source": [
    "def lnlike(j,i):\n",
    "    return (PgBineado[j][i]-DataPkzTotal[j][i])**2 * 1/CovBineado[j][i] + np.log(CovBineado[j][i])"
   ]
  },
  {
   "cell_type": "code",
   "execution_count": 881,
   "id": "7f509987-c126-46f2-aae7-a7e5e2200389",
   "metadata": {},
   "outputs": [],
   "source": [
    "arrayindices = np.arange(0,len(KArray)-50,1)\n",
    "lnlike(0,arrayindices)\n",
    "sumlnlike = np.sum(lnlike(0,arrayindices))"
   ]
  },
  {
   "cell_type": "code",
   "execution_count": 882,
   "id": "bca0a642-053c-46bd-abf8-6e8a2aebaa6d",
   "metadata": {},
   "outputs": [
    {
     "data": {
      "text/plain": [
       "48118.66360607402"
      ]
     },
     "execution_count": 882,
     "metadata": {},
     "output_type": "execute_result"
    }
   ],
   "source": [
    "sumlnlike"
   ]
  },
  {
   "cell_type": "code",
   "execution_count": null,
   "id": "93fcc5c5-22ea-4c03-8683-b3af05d761c7",
   "metadata": {},
   "outputs": [],
   "source": []
  }
 ],
 "metadata": {
  "kernelspec": {
   "display_name": "Python 3 (ipykernel)",
   "language": "python",
   "name": "python3"
  },
  "language_info": {
   "codemirror_mode": {
    "name": "ipython",
    "version": 3
   },
   "file_extension": ".py",
   "mimetype": "text/x-python",
   "name": "python",
   "nbconvert_exporter": "python",
   "pygments_lexer": "ipython3",
   "version": "3.9.6"
  }
 },
 "nbformat": 4,
 "nbformat_minor": 5
}
